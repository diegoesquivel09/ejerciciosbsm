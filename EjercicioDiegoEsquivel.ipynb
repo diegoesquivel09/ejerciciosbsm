{
  "nbformat": 4,
  "nbformat_minor": 0,
  "metadata": {
    "colab": {
      "provenance": [],
      "include_colab_link": true
    },
    "kernelspec": {
      "name": "python3",
      "display_name": "Python 3"
    },
    "language_info": {
      "name": "python"
    }
  },
  "cells": [
    {
      "cell_type": "markdown",
      "metadata": {
        "id": "view-in-github",
        "colab_type": "text"
      },
      "source": [
        "<a href=\"https://colab.research.google.com/github/diegoesquivel09/ejerciciosbsm/blob/main/EjercicioDiegoEsquivel.ipynb\" target=\"_parent\"><img src=\"https://colab.research.google.com/assets/colab-badge.svg\" alt=\"Open In Colab\"/></a>"
      ]
    },
    {
      "cell_type": "code",
      "execution_count": null,
      "metadata": {
        "colab": {
          "base_uri": "https://localhost:8080/",
          "height": 359
        },
        "id": "lnB1o4qEa4t6",
        "outputId": "0dd425fe-09f4-4a86-eab5-09ae421c5faa"
      },
      "outputs": [
        {
          "output_type": "stream",
          "name": "stdout",
          "text": [
            "Collecting mip\n",
            "  Downloading mip-1.15.0-py3-none-any.whl (15.3 MB)\n",
            "\u001b[2K     \u001b[90m━━━━━━━━━━━━━━━━━━━━━━━━━━━━━━━━━━━━━━━━\u001b[0m \u001b[32m15.3/15.3 MB\u001b[0m \u001b[31m65.7 MB/s\u001b[0m eta \u001b[36m0:00:00\u001b[0m\n",
            "\u001b[?25hCollecting cffi==1.15.* (from mip)\n",
            "  Downloading cffi-1.15.1-cp310-cp310-manylinux_2_17_x86_64.manylinux2014_x86_64.whl (441 kB)\n",
            "\u001b[2K     \u001b[90m━━━━━━━━━━━━━━━━━━━━━━━━━━━━━━━━━━━━━━━━\u001b[0m \u001b[32m441.8/441.8 kB\u001b[0m \u001b[31m29.7 MB/s\u001b[0m eta \u001b[36m0:00:00\u001b[0m\n",
            "\u001b[?25hRequirement already satisfied: pycparser in /usr/local/lib/python3.10/dist-packages (from cffi==1.15.*->mip) (2.21)\n",
            "Installing collected packages: cffi, mip\n",
            "  Attempting uninstall: cffi\n",
            "    Found existing installation: cffi 1.16.0\n",
            "    Uninstalling cffi-1.16.0:\n",
            "      Successfully uninstalled cffi-1.16.0\n",
            "Successfully installed cffi-1.15.1 mip-1.15.0\n"
          ]
        },
        {
          "output_type": "display_data",
          "data": {
            "application/vnd.colab-display-data+json": {
              "pip_warning": {
                "packages": [
                  "cffi"
                ]
              }
            }
          },
          "metadata": {}
        }
      ],
      "source": [
        "!pip install mip\n"
      ]
    },
    {
      "cell_type": "code",
      "source": [
        "\n",
        "from mip import *\n",
        "\n"
      ],
      "metadata": {
        "id": "S4SLmwE7a9Gt"
      },
      "execution_count": null,
      "outputs": []
    },
    {
      "cell_type": "code",
      "source": [
        "## Alternativa simple\n",
        "\n",
        "m = Model() #Voy a construir un modelo llamado m\n",
        "ale=m.add_var() #mesas es una variable dentro del modelo m\n",
        "lager=m.add_var()\n",
        "stout=m.add_var()\n",
        "m.objective = maximize(3.5*ale+3*lager+4*stout) #Función objetivo para maximizar\n",
        "m.add_constr(4*ale+3*lager+5*stout<=80) #Restricción1\n",
        "m.add_constr(ale+lager+stout<=25) #Restricción2\n",
        "m.add_constr(2*ale+lager+2*stout<=35) #Restricción5\n",
        "status=m.optimize() #resolver el problema y guarda el status de la solución\n",
        "print(status)\n",
        "print(\"valor solución: \",m.objective_value)\n",
        "print(\"Ale: \",ale.x)\n",
        "print(\"Lager: \",lager.x)\n",
        "print(\"Stout: \",stout.x)\n",
        "\n"
      ],
      "metadata": {
        "colab": {
          "base_uri": "https://localhost:8080/"
        },
        "id": "h_s4P7M4a_pU",
        "outputId": "43c52e75-6e05-4c02-db52-86214ef6f0bb"
      },
      "execution_count": null,
      "outputs": [
        {
          "output_type": "stream",
          "name": "stdout",
          "text": [
            "OptimizationStatus.OPTIMAL\n",
            "valor solución:  77.5\n",
            "Ale:  4.999999999999992\n",
            "Lager:  20.000000000000007\n",
            "Stout:  0.0\n"
          ]
        }
      ]
    },
    {
      "cell_type": "code",
      "source": [
        "## Alternativa habitual\n",
        "\n",
        "### Definir objeto modelo y los datos\n",
        "\n",
        "modelo = Model()\n",
        "\n",
        "productos=['ale','lager','stout'] #vector de productos\n",
        "rProductos = range(len(productos)) #\n",
        "ingredientes=['malta','levadura','lupulo'] #vector de ingredientes\n",
        "rIngredientes = range(len(ingredientes))\n",
        "uso=[[4,1,2],[3,1,1],[5,1,2]] #una fila para cada producto y una columna para cada pieza\n",
        "# 4,1,2 (la ale requiere 4 maltas, 1 levadura y 2 lúpulos)\n",
        "# 3 1 1(la ale requiere 3 maltas, 1 levadura y 1 lúpulos)\n",
        "# 5 1 2(la ale requiere 5 maltas, 1 levadura y 2 lúpulos)\n",
        "disponibilidad=[80,25,35] # 80 maltas, 25 levaduras y 35 lúpulos\n",
        "pv=[3.5,3,4] # 3.5 por cada ale, 3 por cada lager y 4 por cada stout\n",
        "\n",
        "### Definir variables\n",
        "\n",
        "#Vamos a construir un vector de variables\n",
        "\n",
        "x=[modelo.add_var() for i in rProductos]\n",
        "\n",
        "### Definir objetivo\n",
        "\n",
        "#Definimos el objetivo como una suma producto\n",
        "\n",
        "modelo.objective = maximize(xsum(pv[i]*x[i] for i in rProductos))\n",
        "\n",
        " # xsum = sumatoria\n",
        " #xsum(pv[i]*x[i] donde pone i pon primero Ales luego Lagers y por último stouts\n",
        " # rProductos ---> Ale, Lager y Stout\n",
        " # pv[mesas]*x[mesas] pv[sillas]*x[sillas] y las sumo porque hay un xsum\n",
        "\n",
        "### Definir restricciones\n",
        "\n",
        "#Hacemos una restricción para cada pieza que mira la disponibilidad\n",
        "\n",
        "for p in rIngredientes: #quiero una restricción para cada ingrediente\n",
        "  # uso*variable <= disponibilidad\n",
        "  modelo.add_constr( xsum(uso[i][p]*x[i] for i in rProductos) <= disponibilidad[p])\n",
        "\n",
        "  #paso 1 construiría una restricción donde p es \"Malta\"\n",
        "  #paso 2 construiría una restricción donde p es \"Levadura\"\n",
        "  ##paso 3 construiría una restricción donde p es \"Lúpulo\"\n",
        "\n",
        "### Resolver el problema y obtener los resultados\n",
        "\n",
        "status=modelo.optimize()\n",
        "print(status)\n",
        "print(\"valor solución: \",modelo.objective_value)\n",
        "for i in rProductos:\n",
        "  print(\"De la cerveza\",productos[i],\"se hacen\",round(x[i].x),\"unidades\")"
      ],
      "metadata": {
        "colab": {
          "base_uri": "https://localhost:8080/"
        },
        "id": "gdZnkBtybDTE",
        "outputId": "b33bfda2-9734-4404-fde5-ebf72e2bc546"
      },
      "execution_count": null,
      "outputs": [
        {
          "output_type": "stream",
          "name": "stdout",
          "text": [
            "OptimizationStatus.OPTIMAL\n",
            "valor solución:  77.5\n",
            "De la cerveza ale se hacen 5 unidades\n",
            "De la cerveza lager se hacen 20 unidades\n",
            "De la cerveza stout se hacen 0 unidades\n"
          ]
        }
      ]
    }
  ]
}