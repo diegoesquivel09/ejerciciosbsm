{
  "nbformat": 4,
  "nbformat_minor": 0,
  "metadata": {
    "colab": {
      "provenance": [],
      "authorship_tag": "ABX9TyNhxgKMdrWxQJtgy4mOCIf0",
      "include_colab_link": true
    },
    "kernelspec": {
      "name": "python3",
      "display_name": "Python 3"
    },
    "language_info": {
      "name": "python"
    }
  },
  "cells": [
    {
      "cell_type": "markdown",
      "metadata": {
        "id": "view-in-github",
        "colab_type": "text"
      },
      "source": [
        "<a href=\"https://colab.research.google.com/github/diegoesquivel09/ejerciciosbsm/blob/main/Eurosourcing_v3.ipynb\" target=\"_parent\"><img src=\"https://colab.research.google.com/assets/colab-badge.svg\" alt=\"Open In Colab\"/></a>"
      ]
    },
    {
      "cell_type": "code",
      "execution_count": 1,
      "metadata": {
        "colab": {
          "base_uri": "https://localhost:8080/"
        },
        "id": "DldGS9gedeLW",
        "outputId": "66a0d262-8dd0-40d3-f878-aa46c85e9b8d"
      },
      "outputs": [
        {
          "output_type": "stream",
          "name": "stdout",
          "text": [
            "Requirement already satisfied: mip in /usr/local/lib/python3.10/dist-packages (1.15.0)\n",
            "Requirement already satisfied: cffi==1.15.* in /usr/local/lib/python3.10/dist-packages (from mip) (1.15.1)\n",
            "Requirement already satisfied: pycparser in /usr/local/lib/python3.10/dist-packages (from cffi==1.15.*->mip) (2.21)\n"
          ]
        }
      ],
      "source": [
        "!pip install mip\n",
        "\n",
        "from mip import *\n"
      ]
    },
    {
      "cell_type": "markdown",
      "source": [
        "### Definir objeto modelo y los datos\n"
      ],
      "metadata": {
        "id": "52ZjXuzseqao"
      }
    },
    {
      "cell_type": "code",
      "source": [
        "#Crear el modelo\n",
        "\n",
        "model = Model()\n",
        "\n",
        "# Datos del problema. --\n",
        "\n",
        "mercados = ['Madrid', 'París', 'Berlín', 'Roma', 'Amsterdam']\n",
        "costo_produccion_local = {'Madrid': 460, 'París': 515, 'Berlín': 505, 'Roma': 480, 'Amsterdam': 490}\n",
        "demanda = {'Madrid': 420, 'París': 1310, 'Berlín': 1250, 'Roma': 930, 'Amsterdam': 870}\n",
        "#Agregar costo transporte terrestre 0 entre iguales ciudades\n",
        "costo_transporte_terrestre = {\n",
        "    ('Madrid', 'París'): 10, ('Madrid', 'Berlín'): 35, ('Madrid', 'Roma'): 25, ('Madrid', 'Amsterdam'): 25, ('Madrid', 'Madrid'): 0,\n",
        "    ('París', 'Berlín'): 15, ('París', 'Roma'): 20, ('París', 'Amsterdam'): 10, ('París', 'Madrid'): 10, ('París', 'París'): 0,\n",
        "    ('Berlín', 'Madrid'): 35,('Berlín', 'París'): 15,('Berlín', 'Roma'): 25, ('Berlín', 'Amsterdam'): 10, ('Berlín', 'Berlín'): 0,\n",
        "    ('Roma', 'Madrid'): 25, ('Roma', 'París'): 20, ('Roma', 'Berlín'): 25, ('Roma', 'Amsterdam'): 23, ('Roma', 'Roma'): 0,\n",
        "    ('Amsterdam', 'Madrid'): 25, ('Amsterdam', 'París'): 10, ('Amsterdam', 'Berlín'): 10, ('Amsterdam', 'Roma'): 23, ('Amsterdam', 'Amsterdam'): 0,\n",
        "}\n",
        "costo_produccion_china_40 = {'Madrid': (1800+440*200), 'París': (1650+440*200), 'Berlín': (1800+440*200), 'Roma': (2000+440*200), 'Amsterdam': (1200+440*200)}#Costo producción en China + transporte container 40\n",
        "costo_produccion_china_20 = {'Madrid': (1100+440*100), 'París': (1050+440*100), 'Berlín': (1100+440*100), 'Roma': (1200+440*100), 'Amsterdam': (700+440*100)}#Costo producción en China + transporte container 20\n",
        "costo_produccion_china_LCL = {'Madrid': (23+440), 'París': (22+440), 'Berlín': (23+440), 'Roma': (25+440), 'Amsterdam': (15+440)}#Costo producción en China + transporte LCL\n",
        "\n",
        "print(costo_produccion_china_LCL)"
      ],
      "metadata": {
        "id": "d3gHNXYqesnP",
        "colab": {
          "base_uri": "https://localhost:8080/"
        },
        "outputId": "a12aa62a-4ba5-447e-d35a-cfb2811fb74e"
      },
      "execution_count": 2,
      "outputs": [
        {
          "output_type": "stream",
          "name": "stdout",
          "text": [
            "{'Madrid': 463, 'París': 462, 'Berlín': 463, 'Roma': 465, 'Amsterdam': 455}\n"
          ]
        }
      ]
    },
    {
      "cell_type": "markdown",
      "source": [
        "#Definir variables"
      ],
      "metadata": {
        "id": "nxFjkxmG9o69"
      }
    },
    {
      "cell_type": "code",
      "source": [
        "### Definir variables de decisión\n",
        "comprar_china_container40= {m: model.add_var(var_type='I', lb=0) for m in mercados} ## Producos OVIS a cada mercado/almacen en container grande\n",
        "comprar_china_container20 = {m: model.add_var(var_type='I', lb=0) for m in mercados} ## Producos OVIS a cada mercado/almacen en container mediano\n",
        "comprar_china_LCL = {m: model.add_var(var_type='I', lb=0) for m in mercados} ## Producos OVIS a cada mercado/almacen individualmente\n",
        "comprar_local = {m: model.add_var(var_type='I', lb=0) for m in mercados} ## Productos producidos en DOMES en un mercado\n",
        "envios = {(o, d): model.add_var(var_type='I', lb=0) for o in mercados for d in mercados} ## Envíos desde un almacen a otro\n",
        "\n",
        "produce_local = {m: model.add_var(var_type=BINARY) for m in mercados} ##\n"
      ],
      "metadata": {
        "id": "CRFdIynM7e4D"
      },
      "execution_count": 3,
      "outputs": []
    },
    {
      "cell_type": "markdown",
      "source": [
        "#Restricciones de demanda"
      ],
      "metadata": {
        "id": "hUSR_zowGh9I"
      }
    },
    {
      "cell_type": "code",
      "source": [
        "for m in mercados:\n",
        "    model.add_constr(comprar_china_LCL[m] + 100*comprar_china_container20[m] + 200*comprar_china_container40[m] + comprar_local[m] + xsum(envios[(o, m)] for o in mercados) == demanda[m] + xsum(envios[(m, d)] for d in mercados))\n",
        "    model.add_constr(xsum(produce_local[m] for m in mercados) == 1) ## Solo se puede producir en un solo lugar de DOMES\n",
        "    model.add_constr (comprar_local[m] <= produce_local[m] * 5000 ) #asociar produce local con compra local\n",
        "\n",
        "model.add_constr (comprar_local[m] >= 0) #verificar el mínimo que se produce internamente\n"
      ],
      "metadata": {
        "colab": {
          "base_uri": "https://localhost:8080/"
        },
        "id": "4O0GYuybGk5O",
        "outputId": "b2820cbe-aa6a-430b-d8e2-85e83de1b364"
      },
      "execution_count": 4,
      "outputs": [
        {
          "output_type": "execute_result",
          "data": {
            "text/plain": [
              "<mip.entities.Constr at 0x7fa89467f080>"
            ]
          },
          "metadata": {},
          "execution_count": 4
        }
      ]
    },
    {
      "cell_type": "markdown",
      "source": [
        "# Función Objetivo"
      ],
      "metadata": {
        "id": "NX_ajN7S-cK8"
      }
    },
    {
      "cell_type": "code",
      "source": [
        "model.objective= minimize (\n",
        "    xsum(comprar_china_LCL[m] * costo_produccion_china_LCL[m] for m in mercados) +\n",
        "    xsum(comprar_china_container20[m] * costo_produccion_china_20[m] for m in mercados) +\n",
        "    xsum(comprar_china_container40[m] * costo_produccion_china_40[m] for m in mercados) +\n",
        "    xsum(comprar_local[m] * costo_produccion_local[m] for m in mercados) +\n",
        "    xsum(envios[o, d] * costo_transporte_terrestre[o,d] for o in mercados for d in mercados) ##si toma igual ciudad para origen y destino debería tomar valor 0\n",
        ")\n",
        "\n"
      ],
      "metadata": {
        "id": "RAy1j3MR-d0f"
      },
      "execution_count": 5,
      "outputs": []
    },
    {
      "cell_type": "markdown",
      "source": [
        "Resolver el model"
      ],
      "metadata": {
        "id": "4a1_PYcIHFUv"
      }
    },
    {
      "cell_type": "code",
      "source": [
        "status= model.optimize()\n",
        "print(\"Estado:\", status)\n",
        "\n",
        "print(\"Cantidad a comprar desde China:\")\n",
        "for m in mercados:\n",
        "    print(f\"{m}: {comprar_china_container40[m].x}\", \"containers de 40'\")\n",
        "    print(f\"{m}: {comprar_china_container20[m].x}\", \"containers de 20'\")\n",
        "    print(f\"{m}: {comprar_china_LCL[m].x}\", \"piezas individuales'\")\n",
        "\n",
        "\n",
        "print(\"\\nCantidad a comprar localmente:\")\n",
        "for m in mercados:\n",
        "    print(f\"{m}: {comprar_local[m].x}\")\n",
        "\n",
        "print(\"Envíos:\")\n",
        "for o in mercados:\n",
        "    for d in mercados:\n",
        "        print(f\"De {o} a {d}: {envios[o, d].x}\")\n",
        "\n",
        "print(\"Costo total de producción y transporte:\",  model.objective_value)"
      ],
      "metadata": {
        "colab": {
          "base_uri": "https://localhost:8080/"
        },
        "id": "zBk-etoyHFEA",
        "outputId": "db3a6b5e-ea6b-46ed-d59c-4c96b69b013e"
      },
      "execution_count": 6,
      "outputs": [
        {
          "output_type": "stream",
          "name": "stdout",
          "text": [
            "Estado: OptimizationStatus.OPTIMAL\n",
            "Cantidad a comprar desde China:\n",
            "Madrid: 2.0 containers de 40'\n",
            "Madrid: 0.0 containers de 20'\n",
            "Madrid: 0.0 piezas individuales'\n",
            "París: 6.0 containers de 40'\n",
            "París: 1.0 containers de 20'\n",
            "París: 0.0 piezas individuales'\n",
            "Berlín: 6.0 containers de 40'\n",
            "Berlín: 0.0 containers de 20'\n",
            "Berlín: 0.0 piezas individuales'\n",
            "Roma: 4.0 containers de 40'\n",
            "Roma: 1.0 containers de 20'\n",
            "Roma: 30.0 piezas individuales'\n",
            "Amsterdam: 4.0 containers de 40'\n",
            "Amsterdam: 1.0 containers de 20'\n",
            "Amsterdam: 30.0 piezas individuales'\n",
            "\n",
            "Cantidad a comprar localmente:\n",
            "Madrid: 20.0\n",
            "París: 0.0\n",
            "Berlín: 0.0\n",
            "Roma: 0.0\n",
            "Amsterdam: 0.0\n",
            "Envíos:\n",
            "De Madrid a Madrid: 0.0\n",
            "De Madrid a París: 0.0\n",
            "De Madrid a Berlín: 0.0\n",
            "De Madrid a Roma: 0.0\n",
            "De Madrid a Amsterdam: 0.0\n",
            "De París a Madrid: 0.0\n",
            "De París a París: 0.0\n",
            "De París a Berlín: 0.0\n",
            "De París a Roma: 0.0\n",
            "De París a Amsterdam: 0.0\n",
            "De Berlín a Madrid: 0.0\n",
            "De Berlín a París: 0.0\n",
            "De Berlín a Berlín: 0.0\n",
            "De Berlín a Roma: 0.0\n",
            "De Berlín a Amsterdam: 0.0\n",
            "De Roma a Madrid: 0.0\n",
            "De Roma a París: 0.0\n",
            "De Roma a Berlín: 0.0\n",
            "De Roma a Roma: 0.0\n",
            "De Roma a Amsterdam: 0.0\n",
            "De Amsterdam a Madrid: 0.0\n",
            "De Amsterdam a París: 10.0\n",
            "De Amsterdam a Berlín: 50.0\n",
            "De Amsterdam a Roma: 0.0\n",
            "De Amsterdam a Amsterdam: 0.0\n",
            "Costo total de producción y transporte: 2145450.0\n"
          ]
        }
      ]
    },
    {
      "cell_type": "code",
      "source": [
        "total= sum(demanda.values())\n",
        "print(total)"
      ],
      "metadata": {
        "colab": {
          "base_uri": "https://localhost:8080/"
        },
        "id": "5BrR1u4MZeXg",
        "outputId": "5aadf476-8d73-488e-a2fc-89a7a4951cd3"
      },
      "execution_count": 7,
      "outputs": [
        {
          "output_type": "stream",
          "name": "stdout",
          "text": [
            "4780\n"
          ]
        }
      ]
    }
  ]
}