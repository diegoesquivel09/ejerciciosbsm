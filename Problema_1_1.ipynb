{
  "nbformat": 4,
  "nbformat_minor": 0,
  "metadata": {
    "colab": {
      "provenance": [],
      "authorship_tag": "ABX9TyMufelWUlV+hs6rBGvA2B1V",
      "include_colab_link": true
    },
    "kernelspec": {
      "name": "python3",
      "display_name": "Python 3"
    },
    "language_info": {
      "name": "python"
    }
  },
  "cells": [
    {
      "cell_type": "markdown",
      "metadata": {
        "id": "view-in-github",
        "colab_type": "text"
      },
      "source": [
        "<a href=\"https://colab.research.google.com/github/diegoesquivel09/ejerciciosbsm/blob/main/Problema_1_1.ipynb\" target=\"_parent\"><img src=\"https://colab.research.google.com/assets/colab-badge.svg\" alt=\"Open In Colab\"/></a>"
      ]
    },
    {
      "cell_type": "code",
      "execution_count": 2,
      "metadata": {
        "colab": {
          "base_uri": "https://localhost:8080/"
        },
        "id": "WQUx324-H-Ur",
        "outputId": "f512d1bc-9feb-41e3-92df-15e007214084"
      },
      "outputs": [
        {
          "output_type": "stream",
          "name": "stdout",
          "text": [
            "Requirement already satisfied: mip in /usr/local/lib/python3.10/dist-packages (1.15.0)\n",
            "Requirement already satisfied: cffi==1.15.* in /usr/local/lib/python3.10/dist-packages (from mip) (1.15.1)\n",
            "Requirement already satisfied: pycparser in /usr/local/lib/python3.10/dist-packages (from cffi==1.15.*->mip) (2.21)\n"
          ]
        }
      ],
      "source": [
        "!pip install mip\n",
        "\n",
        "from mip import *\n"
      ]
    },
    {
      "cell_type": "markdown",
      "source": [
        "Datos"
      ],
      "metadata": {
        "id": "t_Nnm9WdH_of"
      }
    },
    {
      "cell_type": "code",
      "source": [
        "Model = Model()\n",
        "platos=['platos1','platos2'] #vector de productos\n",
        "rplatos = range(len(platos)) #\n",
        "ingredientes=['langostinos','gambas','ostras'] #vector de ingredientes\n",
        "rungredientes = range(len(ingredientes))\n",
        "uso=[[5,4,1],[3,3,3]] #una fila para cada producto y una columna para cada ingrediente\n",
        "# 5,4,1 (el plato 1 requiere 5 langostinos, 4 gambas y 1 ostra)\n",
        "# 3 3 3(el plato 1 requiere 3 langostinos, 3 gambas y 3 ostras)\n",
        "\n",
        "disponibilidad=[30,24,18] # 30 langostinos, 24 gambas y 18 otras\n",
        "pv=[80,60] # 80 cuesta cada plato 1 y 60 cada plato 2\n"
      ],
      "metadata": {
        "id": "5NPaGgzsIA-q"
      },
      "execution_count": 3,
      "outputs": []
    },
    {
      "cell_type": "markdown",
      "source": [
        "Variables de decisión"
      ],
      "metadata": {
        "id": "Hyx8qcWRJjuj"
      }
    },
    {
      "cell_type": "code",
      "source": [
        "#Vamos a construir un vector de variables\n",
        "\n",
        "x=[Model.add_var() for i in rplatos]"
      ],
      "metadata": {
        "id": "jE6KAT6dJkto"
      },
      "execution_count": 4,
      "outputs": []
    },
    {
      "cell_type": "markdown",
      "source": [
        "Función objetivo"
      ],
      "metadata": {
        "id": "KkZA58xfJw6M"
      }
    },
    {
      "cell_type": "code",
      "source": [
        "### Definimos el objetivo como una suma producto\n",
        "\n",
        "Model.objective = maximize(xsum(pv[i]*x[i] for i in rplatos))\n",
        "\n",
        " # xsum = sumatoria\n",
        " #xsum(cv[i]*x[i] donde pone i pon primero plato 1 y luego plato 2\n",
        " # rplatos ---> Plato 1, Plato 2\n"
      ],
      "metadata": {
        "id": "IKMTCSzfJyLL"
      },
      "execution_count": 5,
      "outputs": []
    },
    {
      "cell_type": "markdown",
      "source": [
        "Definir restricciones"
      ],
      "metadata": {
        "id": "WLX1GJc0Mg4u"
      }
    },
    {
      "cell_type": "code",
      "source": [
        "### Hacemos una restricción para cada pieza que mira la disponibilidad\n",
        "\n",
        "for p in rungredientes: #quiero una restricción para cada ingrediente\n",
        "  # uso*variable <= disponibilidad\n",
        "  Model.add_constr( xsum(uso[i][p]*x[i] for i in rplatos) <= disponibilidad[p])\n",
        "\n",
        "Model.add_constr(xsum(x[i] for i in rplatos) >= 0)\n",
        "\n",
        "  #paso 1 construiría una restricción donde p es \"Langostino\"\n",
        "  #paso 2 construiría una restricción donde p es \"Gambas\"\n",
        "  ##paso 3 construiría una restricción donde p es \"Ostras\"\n"
      ],
      "metadata": {
        "colab": {
          "base_uri": "https://localhost:8080/"
        },
        "id": "gw4EdLB-KYQQ",
        "outputId": "500e93c3-004e-4cea-9f9a-3c82b4941f1d"
      },
      "execution_count": 6,
      "outputs": [
        {
          "output_type": "execute_result",
          "data": {
            "text/plain": [
              "<mip.entities.Constr at 0x7d2d2c21f580>"
            ]
          },
          "metadata": {},
          "execution_count": 6
        }
      ]
    },
    {
      "cell_type": "markdown",
      "source": [
        "Resolver el modelo"
      ],
      "metadata": {
        "id": "ILEkJb9pK8l8"
      }
    },
    {
      "cell_type": "code",
      "source": [
        "status=Model.optimize()\n",
        "print(status)\n",
        "print(\"Ganancia máxima: \",Model.objective_value)\n",
        "for i in rplatos:\n",
        "  print(\"Del\",platos[i],\"se hacen\",round(x[i].x),\"unidades\")"
      ],
      "metadata": {
        "colab": {
          "base_uri": "https://localhost:8080/"
        },
        "id": "lqcB95GyK91j",
        "outputId": "527c2218-4583-4c8b-8059-bbe227358964"
      },
      "execution_count": 8,
      "outputs": [
        {
          "output_type": "stream",
          "name": "stdout",
          "text": [
            "OptimizationStatus.OPTIMAL\n",
            "Ganancia máxima:  480.0\n",
            "Del platos1 se hacen 6 unidades\n",
            "Del platos2 se hacen 0 unidades\n"
          ]
        }
      ]
    }
  ]
}