{
  "nbformat": 4,
  "nbformat_minor": 0,
  "metadata": {
    "colab": {
      "provenance": [],
      "authorship_tag": "ABX9TyPpGyS9+uUP87t+OeZ21/yd",
      "include_colab_link": true
    },
    "kernelspec": {
      "name": "python3",
      "display_name": "Python 3"
    },
    "language_info": {
      "name": "python"
    }
  },
  "cells": [
    {
      "cell_type": "markdown",
      "metadata": {
        "id": "view-in-github",
        "colab_type": "text"
      },
      "source": [
        "<a href=\"https://colab.research.google.com/github/diegoesquivel09/ejerciciosbsm/blob/main/Eurosourcing_v2.ipynb\" target=\"_parent\"><img src=\"https://colab.research.google.com/assets/colab-badge.svg\" alt=\"Open In Colab\"/></a>"
      ]
    },
    {
      "cell_type": "code",
      "execution_count": null,
      "metadata": {
        "id": "wYn0jjHBQ4qj"
      },
      "outputs": [],
      "source": []
    },
    {
      "cell_type": "code",
      "execution_count": 1,
      "metadata": {
        "colab": {
          "base_uri": "https://localhost:8080/"
        },
        "id": "DldGS9gedeLW",
        "outputId": "9ecffc7a-a5e8-48df-eb0a-f5bb6bab29c4"
      },
      "outputs": [
        {
          "output_type": "stream",
          "name": "stdout",
          "text": [
            "Requirement already satisfied: mip in /usr/local/lib/python3.10/dist-packages (1.15.0)\n",
            "Requirement already satisfied: cffi==1.15.* in /usr/local/lib/python3.10/dist-packages (from mip) (1.15.1)\n",
            "Requirement already satisfied: pycparser in /usr/local/lib/python3.10/dist-packages (from cffi==1.15.*->mip) (2.21)\n"
          ]
        }
      ],
      "source": [
        "!pip install mip\n",
        "\n",
        "from mip import *\n"
      ]
    },
    {
      "cell_type": "markdown",
      "source": [
        "### Definir objeto modelo y los datos\n"
      ],
      "metadata": {
        "id": "52ZjXuzseqao"
      }
    },
    {
      "cell_type": "code",
      "source": [
        "#Crear el modelo\n",
        "\n",
        "model = Model()\n",
        "\n",
        "# Datos del problema. --\n",
        "\n",
        "mercados = ['Madrid', 'París', 'Berlín', 'Roma', 'Amsterdam']\n",
        "costo_produccion_local = {'Madrid': 460, 'París': 515, 'Berlín': 505, 'Roma': 480, 'Amsterdam': 490}\n",
        "demanda = {'Madrid': 420, 'París': 1310, 'Berlín': 1250, 'Roma': 930, 'Amsterdam': 870}\n",
        "#Agregar costo transporte terrestre 0 entre iguales ciudades\n",
        "costo_transporte_terrestre = {\n",
        "    ('Madrid', 'París'): 10, ('Madrid', 'Berlín'): 35, ('Madrid', 'Roma'): 25, ('Madrid', 'Amsterdam'): 25, ('Madrid', 'Madrid'): 0,\n",
        "    ('París', 'Berlín'): 15, ('París', 'Roma'): 20, ('París', 'Amsterdam'): 10, ('París', 'Madrid'): 10, ('París', 'París'): 0,\n",
        "    ('Berlín', 'Madrid'): 35,('Berlín', 'París'): 15,('Berlín', 'Roma'): 25, ('Berlín', 'Amsterdam'): 10, ('Berlín', 'Berlín'): 0,\n",
        "    ('Roma', 'Madrid'): 25, ('Roma', 'París'): 20, ('Roma', 'Berlín'): 25, ('Roma', 'Amsterdam'): 23, ('Roma', 'Roma'): 0,\n",
        "    ('Amsterdam', 'Madrid'): 25, ('Amsterdam', 'París'): 10, ('Amsterdam', 'Berlín'): 10, ('Amsterdam', 'Roma'): 23, ('Amsterdam', 'Amsterdam'): 0,\n",
        "}\n",
        "costo_transporte_maritimo_china = {'Madrid': 9, 'París': 8.25, 'Berlín': 9, 'Roma': 10, 'Amsterdam': 6}\n",
        "costo_produccion_china = 440  # Costo unitario de producción en China\n"
      ],
      "metadata": {
        "id": "d3gHNXYqesnP"
      },
      "execution_count": 18,
      "outputs": []
    },
    {
      "cell_type": "markdown",
      "source": [
        "#Definir variables"
      ],
      "metadata": {
        "id": "nxFjkxmG9o69"
      }
    },
    {
      "cell_type": "code",
      "source": [
        "### Definir variables de decisión\n",
        "\n",
        "comprar_china = {m: model.add_var(var_type=CONTINUOUS, lb=0) for m in mercados} ## Producos OVIS a cada mercado/almacen\n",
        "comprar_local = {m: model.add_var(var_type=CONTINUOUS, lb=0) for m in mercados} ## Productos producidos en DOMES en un mercado\n",
        "envios = {(o, d): model.add_var(var_type=CONTINUOUS, lb=0) for o in mercados for d in mercados} ## Envíos desde un almacen a otro\n",
        "\n",
        "produce_local = {m: model.add_var(var_type=BINARY) for m in mercados} ##\n"
      ],
      "metadata": {
        "id": "CRFdIynM7e4D"
      },
      "execution_count": 19,
      "outputs": []
    },
    {
      "cell_type": "markdown",
      "source": [
        "#Restricciones de demanda"
      ],
      "metadata": {
        "id": "hUSR_zowGh9I"
      }
    },
    {
      "cell_type": "code",
      "source": [
        "for m in mercados:\n",
        "    model.add_constr(comprar_china[m] + comprar_local[m] + xsum(envios[(o, m)] for o in mercados) == demanda[m] + xsum(envios[(m, d)] for d in mercados))\n",
        "\n",
        "model.add_constr(xsum(produce_local[m] for m in mercados) == 1) ## Solo se puede producir en un solo lugar de DOMES\n",
        "\n",
        "model.add_constr (comprar_local[m] >= 150) #verificar el mínimo que se produce internamente\n",
        "\n",
        "model.add_constr (comprar_local[m] <= produce_local[m] * 5000 ) #asociar produce local con compra local\n",
        "\n",
        "\n"
      ],
      "metadata": {
        "colab": {
          "base_uri": "https://localhost:8080/"
        },
        "id": "4O0GYuybGk5O",
        "outputId": "de69d864-7143-4a92-87ea-8baae489ee27"
      },
      "execution_count": 20,
      "outputs": [
        {
          "output_type": "execute_result",
          "data": {
            "text/plain": [
              "<mip.entities.Constr at 0x7b18483f44c0>"
            ]
          },
          "metadata": {},
          "execution_count": 20
        }
      ]
    },
    {
      "cell_type": "markdown",
      "source": [
        "# Función Objetivo"
      ],
      "metadata": {
        "id": "NX_ajN7S-cK8"
      }
    },
    {
      "cell_type": "code",
      "source": [
        "model.objective= minimize (\n",
        "    xsum(comprar_china[m] * costo_produccion_china for m in mercados) +\n",
        "    xsum(comprar_local[m] * costo_produccion_local[m] for m in mercados) +\n",
        "    xsum(comprar_china[m] * costo_transporte_maritimo_china[m] for m in mercados) +\n",
        "    xsum(envios[o, d] * costo_transporte_terrestre[o,d] for o in mercados for d in mercados) ##si toma igual ciudad para origen y destino debería tomar valor 0\n",
        ")\n",
        "\n"
      ],
      "metadata": {
        "id": "RAy1j3MR-d0f"
      },
      "execution_count": 21,
      "outputs": []
    },
    {
      "cell_type": "markdown",
      "source": [
        "Resolver el model"
      ],
      "metadata": {
        "id": "4a1_PYcIHFUv"
      }
    },
    {
      "cell_type": "code",
      "source": [
        "status= model.optimize()\n",
        "print(\"Estado:\", status)\n",
        "\n",
        "print(\"Cantidad a comprar desde China:\")\n",
        "for m in mercados:\n",
        "    print(f\"{m}: {comprar_china[m].x}\")\n",
        "\n",
        "print(\"\\nCantidad a comprar localmente:\")\n",
        "for m in mercados:\n",
        "    print(f\"{m}: {comprar_local[m].x}\")\n",
        "\n",
        "print(\"Costo total de producción y transporte:\",  model.objective_value)"
      ],
      "metadata": {
        "colab": {
          "base_uri": "https://localhost:8080/"
        },
        "id": "zBk-etoyHFEA",
        "outputId": "725e6416-94f7-46aa-91f8-921a61e4cfca"
      },
      "execution_count": 22,
      "outputs": [
        {
          "output_type": "stream",
          "name": "stdout",
          "text": [
            "Estado: OptimizationStatus.OPTIMAL\n",
            "Cantidad a comprar desde China:\n",
            "Madrid: 420.0\n",
            "París: 1310.0\n",
            "Berlín: 1250.0\n",
            "Roma: 930.0\n",
            "Amsterdam: 720.0\n",
            "\n",
            "Cantidad a comprar localmente:\n",
            "Madrid: 0.0\n",
            "París: 0.0\n",
            "Berlín: 0.0\n",
            "Roma: 0.0\n",
            "Amsterdam: 150.0\n",
            "Costo total de producción y transporte: 2150157.5\n"
          ]
        }
      ]
    },
    {
      "cell_type": "code",
      "source": [
        "total= sum(demanda.values())\n",
        "print(total)"
      ],
      "metadata": {
        "colab": {
          "base_uri": "https://localhost:8080/"
        },
        "id": "5BrR1u4MZeXg",
        "outputId": "ee6b2f5e-f9a9-410e-a050-8608b4a5973e"
      },
      "execution_count": 13,
      "outputs": [
        {
          "output_type": "stream",
          "name": "stdout",
          "text": [
            "4780\n"
          ]
        }
      ]
    }
  ]
}