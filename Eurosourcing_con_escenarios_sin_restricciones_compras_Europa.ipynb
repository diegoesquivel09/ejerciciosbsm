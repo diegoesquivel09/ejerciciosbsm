{
  "nbformat": 4,
  "nbformat_minor": 0,
  "metadata": {
    "colab": {
      "provenance": [],
      "authorship_tag": "ABX9TyP9DygHLLnSNSUpIuSYEmBr",
      "include_colab_link": true
    },
    "kernelspec": {
      "name": "python3",
      "display_name": "Python 3"
    },
    "language_info": {
      "name": "python"
    }
  },
  "cells": [
    {
      "cell_type": "markdown",
      "metadata": {
        "id": "view-in-github",
        "colab_type": "text"
      },
      "source": [
        "<a href=\"https://colab.research.google.com/github/diegoesquivel09/ejerciciosbsm/blob/main/Eurosourcing_con_escenarios_sin_restricciones_compras_Europa.ipynb\" target=\"_parent\"><img src=\"https://colab.research.google.com/assets/colab-badge.svg\" alt=\"Open In Colab\"/></a>"
      ]
    },
    {
      "cell_type": "code",
      "execution_count": 1,
      "metadata": {
        "colab": {
          "base_uri": "https://localhost:8080/"
        },
        "id": "DldGS9gedeLW",
        "outputId": "2e21d9fb-c4ac-4453-cd6a-f604837b973f"
      },
      "outputs": [
        {
          "output_type": "stream",
          "name": "stdout",
          "text": [
            "Requirement already satisfied: mip in /usr/local/lib/python3.10/dist-packages (1.15.0)\n",
            "Requirement already satisfied: cffi==1.15.* in /usr/local/lib/python3.10/dist-packages (from mip) (1.15.1)\n",
            "Requirement already satisfied: pycparser in /usr/local/lib/python3.10/dist-packages (from cffi==1.15.*->mip) (2.21)\n"
          ]
        }
      ],
      "source": [
        "!pip install mip\n",
        "\n",
        "from mip import *\n"
      ]
    },
    {
      "cell_type": "markdown",
      "source": [
        "### Definir objeto modelo y los datos\n"
      ],
      "metadata": {
        "id": "52ZjXuzseqao"
      }
    },
    {
      "cell_type": "code",
      "source": [
        "#Crear el modelo\n",
        "\n",
        "model = Model()\n",
        "\n",
        "# Datos del problema. --\n",
        "\n",
        "mercados = ['Madrid', 'París', 'Berlín', 'Roma', 'Amsterdam']\n",
        "costo_produccion_local = {'Madrid': 460, 'París': 515, 'Berlín': 505, 'Roma': 480, 'Amsterdam': 490}\n",
        "\n",
        "demanda_media = {'Madrid': 420, 'París': 1310, 'Berlín': 1250, 'Roma': 930, 'Amsterdam': 870}\n",
        "# Aumento máximo de la demanda en un 25%\n",
        "demanda_superior = {key: value * 1.25 for key, value in demanda_media.items()}\n",
        "\n",
        "# Reducción máxima de la demanda en un 25%\n",
        "demanda_inferior = {key: value * 0.75 for key, value in demanda_media.items()}\n",
        "\n",
        "escenarios_demanda= {\n",
        "    'media': demanda_media,\n",
        "    'superior': demanda_superior,\n",
        "    'inferior': demanda_inferior\n",
        "}\n",
        "\n",
        "probabilidad= {\n",
        "    'media': 0.33,\n",
        "    'superior': 0.33,\n",
        "    'inferior': 0.33\n",
        "}\n",
        "\n",
        "#Agregar costo transporte terrestre 0 entre iguales ciudades\n",
        "costo_transporte_terrestre = {\n",
        "    ('Madrid', 'París'): 10, ('Madrid', 'Berlín'): 35, ('Madrid', 'Roma'): 25, ('Madrid', 'Amsterdam'): 25, ('Madrid', 'Madrid'): 0,\n",
        "    ('París', 'Berlín'): 15, ('París', 'Roma'): 20, ('París', 'Amsterdam'): 10, ('París', 'Madrid'): 10, ('París', 'París'): 0,\n",
        "    ('Berlín', 'Madrid'): 35,('Berlín', 'París'): 15,('Berlín', 'Roma'): 25, ('Berlín', 'Amsterdam'): 10, ('Berlín', 'Berlín'): 0,\n",
        "    ('Roma', 'Madrid'): 25, ('Roma', 'París'): 20, ('Roma', 'Berlín'): 25, ('Roma', 'Amsterdam'): 23, ('Roma', 'Roma'): 0,\n",
        "    ('Amsterdam', 'Madrid'): 25, ('Amsterdam', 'París'): 10, ('Amsterdam', 'Berlín'): 10, ('Amsterdam', 'Roma'): 23, ('Amsterdam', 'Amsterdam'): 0,\n",
        "}\n",
        "costo_produccion_china_40 = {'Madrid': (1800+440*200), 'París': (1650+440*200), 'Berlín': (1800+440*200), 'Roma': (2000+440*200), 'Amsterdam': (1200+440*200)}#Costo producción en China + transporte container 40\n",
        "costo_produccion_china_20 = {'Madrid': (1100+440*100), 'París': (1050+440*100), 'Berlín': (1100+440*100), 'Roma': (1200+440*100), 'Amsterdam': (700+440*100)}#Costo producción en China + transporte container 20\n",
        "costo_produccion_china_LCL = {'Madrid': (23+440), 'París': (22+440), 'Berlín': (23+440), 'Roma': (25+440), 'Amsterdam': (15+440)}#Costo producción en China + transporte LCL\n"
      ],
      "metadata": {
        "id": "d3gHNXYqesnP"
      },
      "execution_count": 2,
      "outputs": []
    },
    {
      "cell_type": "code",
      "source": [
        "print(escenarios_demanda)"
      ],
      "metadata": {
        "colab": {
          "base_uri": "https://localhost:8080/"
        },
        "id": "f8i4KJksA1--",
        "outputId": "a2844f02-ceb3-45b4-91a5-670abc0ad87e"
      },
      "execution_count": 3,
      "outputs": [
        {
          "output_type": "stream",
          "name": "stdout",
          "text": [
            "{'media': {'Madrid': 420, 'París': 1310, 'Berlín': 1250, 'Roma': 930, 'Amsterdam': 870}, 'superior': {'Madrid': 525.0, 'París': 1637.5, 'Berlín': 1562.5, 'Roma': 1162.5, 'Amsterdam': 1087.5}, 'inferior': {'Madrid': 315.0, 'París': 982.5, 'Berlín': 937.5, 'Roma': 697.5, 'Amsterdam': 652.5}}\n"
          ]
        }
      ]
    },
    {
      "cell_type": "markdown",
      "source": [
        "#Definir variables"
      ],
      "metadata": {
        "id": "nxFjkxmG9o69"
      }
    },
    {
      "cell_type": "code",
      "source": [
        "### Definir variables de decisión\n",
        "comprar_china_container40= {m: model.add_var(var_type='I', lb=0) for m in mercados} ## Producos OVIS a cada mercado/almacen en container grande\n",
        "comprar_china_container20 = {m: model.add_var(var_type='I', lb=0) for m in mercados} ## Producos OVIS a cada mercado/almacen en container mediano\n",
        "comprar_china_LCL = {m: model.add_var(var_type='I', lb=0) for m in mercados} ## Producos OVIS a cada mercado/almacen individualmente\n",
        "comprar_local = {(m, e): model.add_var(var_type='C', lb=0) for m in mercados for e in escenarios_demanda} ## Productos producidos en DOMES en un mercado\n",
        "envios = {(o, d, e): model.add_var(var_type='C', lb=0) for o in mercados for d in mercados for e in escenarios_demanda} ## Envíos desde un almacen a otro\n",
        "stock= {(m,e): model.add_var(lb=0) for m in mercados for e in escenarios_demanda}\n",
        "\n",
        "produce_local = {m: model.add_var(var_type=BINARY) for m in mercados} ##\n"
      ],
      "metadata": {
        "id": "CRFdIynM7e4D"
      },
      "execution_count": 4,
      "outputs": []
    },
    {
      "cell_type": "markdown",
      "source": [
        "#Restricciones de demanda"
      ],
      "metadata": {
        "id": "hUSR_zowGh9I"
      }
    },
    {
      "cell_type": "code",
      "source": [
        "for m in mercados:\n",
        "  for e in escenarios_demanda:\n",
        "    model.add_constr(comprar_china_LCL[m] + 100*comprar_china_container20[m] + 200*comprar_china_container40[m] + comprar_local[(m, e)] + xsum(envios[(o, m, e)] for o in mercados) == escenarios_demanda[e][m] + xsum(envios[(m, d, e)] for d in mercados) + stock[(m,e)])\n",
        "    model.add_constr(xsum(produce_local[m] for m in mercados) == 1) ## Solo se puede producir en un solo lugar de DOMES\n",
        "    model.add_constr (comprar_local[(m, e)] <= produce_local[m] * 5000 ) #asociar produce local con compra local\n",
        "    model.add_constr (comprar_local[(m, e)] >= 0) #verificar el mínimo que se produce internamente\n",
        "\n",
        "\n"
      ],
      "metadata": {
        "id": "4O0GYuybGk5O"
      },
      "execution_count": 5,
      "outputs": []
    },
    {
      "cell_type": "markdown",
      "source": [
        "# Función Objetivo"
      ],
      "metadata": {
        "id": "NX_ajN7S-cK8"
      }
    },
    {
      "cell_type": "code",
      "source": [
        "model.objective= minimize (\n",
        "    xsum(comprar_china_LCL[m] * costo_produccion_china_LCL[m] for m in mercados) +\n",
        "    xsum(comprar_china_container20[m] * costo_produccion_china_20[m] for m in mercados) +\n",
        "    xsum(comprar_china_container40[m] * costo_produccion_china_40[m] for m in mercados) +\n",
        "    xsum(probabilidad[e] *\n",
        "    (xsum(comprar_local[(m, e)] * costo_produccion_local[m] for m in mercados) +\n",
        "    xsum(envios[(o, d, e)] * costo_transporte_terrestre[(o,d)] for o in mercados for d in mercados for e in escenarios_demanda)) for e in probabilidad)  ##si toma igual ciudad para origen y destino debería tomar valor 0\n",
        ")\n",
        "\n"
      ],
      "metadata": {
        "id": "RAy1j3MR-d0f"
      },
      "execution_count": 8,
      "outputs": []
    },
    {
      "cell_type": "markdown",
      "source": [
        "Resolver el model"
      ],
      "metadata": {
        "id": "4a1_PYcIHFUv"
      }
    },
    {
      "cell_type": "code",
      "source": [
        "status= model.optimize()\n",
        "print(\"Estado:\", status)\n",
        "print(\"Costo total de producción y transporte:\",  model.objective_value)\n",
        "\n",
        "print(\"Cantidad a comprar desde China:\")\n",
        "for m in mercados:\n",
        "    print(f\"{m}: {comprar_china_container40[m].x}\", \"containers de 40'\")\n",
        "    print(f\"{m}: {comprar_china_container20[m].x}\", \"containers de 20'\")\n",
        "    print(f\"{m}: {comprar_china_LCL[m].x}\", \"piezas individuales'\")\n",
        "\n",
        "\n",
        "for e in escenarios_demanda:\n",
        "  print(\"Escenario de demanda:\", f\"{e}\")\n",
        "  print(\"\\nCantidad a comprar localmente:\")\n",
        "  for m in mercados:\n",
        "    print(f\"{m}: {comprar_local[m, e].x}\")\n",
        "    print(f\"Mantener en stock en {m}: {stock[m,e].x}\")\n",
        "\n",
        "  print(\"Envíos:\")\n",
        "  for o in mercados:\n",
        "    for d in mercados:\n",
        "      print(f\"De {o} a {d}: {envios[o, d, e].x}\")\n",
        "\n",
        "\n"
      ],
      "metadata": {
        "colab": {
          "base_uri": "https://localhost:8080/"
        },
        "id": "zBk-etoyHFEA",
        "outputId": "5abf5c5d-9a1b-4c89-8483-b956f533acc2"
      },
      "execution_count": 9,
      "outputs": [
        {
          "output_type": "stream",
          "name": "stdout",
          "text": [
            "Estado: OptimizationStatus.OPTIMAL\n",
            "Costo total de producción y transporte: 2203460.75\n",
            "Cantidad a comprar desde China:\n",
            "Madrid: 0.0 containers de 40'\n",
            "Madrid: 0.0 containers de 20'\n",
            "Madrid: 0.0 piezas individuales'\n",
            "París: 3.0 containers de 40'\n",
            "París: 0.0 containers de 20'\n",
            "París: 0.0 piezas individuales'\n",
            "Berlín: 6.0 containers de 40'\n",
            "Berlín: 0.0 containers de 20'\n",
            "Berlín: 15.0 piezas individuales'\n",
            "Roma: 4.0 containers de 40'\n",
            "Roma: 1.0 containers de 20'\n",
            "Roma: 0.0 piezas individuales'\n",
            "Amsterdam: 4.0 containers de 40'\n",
            "Amsterdam: 0.0 containers de 20'\n",
            "Amsterdam: 70.0 piezas individuales'\n",
            "Escenario de demanda: media\n",
            "\n",
            "Cantidad a comprar localmente:\n",
            "Madrid: 1195.0\n",
            "Mantener en stock en Madrid: 0.0\n",
            "París: 0.0\n",
            "Mantener en stock en París: 0.0\n",
            "Berlín: 0.0\n",
            "Mantener en stock en Berlín: 0.0\n",
            "Roma: 0.0\n",
            "Mantener en stock en Roma: 0.0\n",
            "Amsterdam: 0.0\n",
            "Mantener en stock en Amsterdam: 0.0\n",
            "Envíos:\n",
            "De Madrid a Madrid: 0.0\n",
            "De Madrid a París: 745.0\n",
            "De Madrid a Berlín: 0.0\n",
            "De Madrid a Roma: 30.0\n",
            "De Madrid a Amsterdam: 0.0\n",
            "De París a Madrid: 0.0\n",
            "De París a París: 0.0\n",
            "De París a Berlín: 35.0\n",
            "De París a Roma: 0.0\n",
            "De París a Amsterdam: 0.0\n",
            "De Berlín a Madrid: 0.0\n",
            "De Berlín a París: 0.0\n",
            "De Berlín a Berlín: 0.0\n",
            "De Berlín a Roma: 0.0\n",
            "De Berlín a Amsterdam: 0.0\n",
            "De Roma a Madrid: 0.0\n",
            "De Roma a París: 0.0\n",
            "De Roma a Berlín: 0.0\n",
            "De Roma a Roma: 0.0\n",
            "De Roma a Amsterdam: 0.0\n",
            "De Amsterdam a Madrid: 0.0\n",
            "De Amsterdam a París: 0.0\n",
            "De Amsterdam a Berlín: 0.0\n",
            "De Amsterdam a Roma: 0.0\n",
            "De Amsterdam a Amsterdam: 0.0\n",
            "Escenario de demanda: superior\n",
            "\n",
            "Cantidad a comprar localmente:\n",
            "Madrid: 2390.0\n",
            "Mantener en stock en Madrid: 0.0\n",
            "París: 0.0\n",
            "Mantener en stock en París: 0.0\n",
            "Berlín: 0.0\n",
            "Mantener en stock en Berlín: 0.0\n",
            "Roma: 0.0\n",
            "Mantener en stock en Roma: 0.0\n",
            "Amsterdam: 0.0\n",
            "Mantener en stock en Amsterdam: 0.0\n",
            "Envíos:\n",
            "De Madrid a Madrid: 0.0\n",
            "De Madrid a París: 1602.5\n",
            "De Madrid a Berlín: 0.0\n",
            "De Madrid a Roma: 262.5\n",
            "De Madrid a Amsterdam: 0.0\n",
            "De París a Madrid: 0.0\n",
            "De París a París: 0.0\n",
            "De París a Berlín: 347.5\n",
            "De París a Roma: 0.0\n",
            "De París a Amsterdam: 217.5\n",
            "De Berlín a Madrid: 0.0\n",
            "De Berlín a París: 0.0\n",
            "De Berlín a Berlín: 0.0\n",
            "De Berlín a Roma: 0.0\n",
            "De Berlín a Amsterdam: 0.0\n",
            "De Roma a Madrid: 0.0\n",
            "De Roma a París: 0.0\n",
            "De Roma a Berlín: 0.0\n",
            "De Roma a Roma: 0.0\n",
            "De Roma a Amsterdam: 0.0\n",
            "De Amsterdam a Madrid: 0.0\n",
            "De Amsterdam a París: 0.0\n",
            "De Amsterdam a Berlín: 0.0\n",
            "De Amsterdam a Roma: 0.0\n",
            "De Amsterdam a Amsterdam: 0.0\n",
            "Escenario de demanda: inferior\n",
            "\n",
            "Cantidad a comprar localmente:\n",
            "Madrid: 0.0\n",
            "Mantener en stock en Madrid: 0.0\n",
            "París: 0.0\n",
            "Mantener en stock en París: 0.0\n",
            "Berlín: 0.0\n",
            "Mantener en stock en Berlín: 0.0\n",
            "Roma: 0.0\n",
            "Mantener en stock en Roma: 0.0\n",
            "Amsterdam: 0.0\n",
            "Mantener en stock en Amsterdam: 0.0\n",
            "Envíos:\n",
            "De Madrid a Madrid: 0.0\n",
            "De Madrid a París: 0.0\n",
            "De Madrid a Berlín: 0.0\n",
            "De Madrid a Roma: 0.0\n",
            "De Madrid a Amsterdam: 0.0\n",
            "De París a Madrid: 112.5\n",
            "De París a París: 0.0\n",
            "De París a Berlín: 0.0\n",
            "De París a Roma: 0.0\n",
            "De París a Amsterdam: 0.0\n",
            "De Berlín a Madrid: 0.0\n",
            "De Berlín a París: 277.5\n",
            "De Berlín a Berlín: 0.0\n",
            "De Berlín a Roma: 0.0\n",
            "De Berlín a Amsterdam: 0.0\n",
            "De Roma a Madrid: 202.5\n",
            "De Roma a París: 0.0\n",
            "De Roma a Berlín: 0.0\n",
            "De Roma a Roma: 0.0\n",
            "De Roma a Amsterdam: 0.0\n",
            "De Amsterdam a Madrid: 0.0\n",
            "De Amsterdam a París: 217.5\n",
            "De Amsterdam a Berlín: 0.0\n",
            "De Amsterdam a Roma: 0.0\n",
            "De Amsterdam a Amsterdam: 0.0\n"
          ]
        }
      ]
    }
  ]
}