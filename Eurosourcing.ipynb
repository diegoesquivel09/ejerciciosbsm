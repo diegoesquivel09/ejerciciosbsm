{
  "nbformat": 4,
  "nbformat_minor": 0,
  "metadata": {
    "colab": {
      "provenance": [],
      "authorship_tag": "ABX9TyNfNOPWN7UZUhXbHEBSbA3y",
      "include_colab_link": true
    },
    "kernelspec": {
      "name": "python3",
      "display_name": "Python 3"
    },
    "language_info": {
      "name": "python"
    }
  },
  "cells": [
    {
      "cell_type": "markdown",
      "metadata": {
        "id": "view-in-github",
        "colab_type": "text"
      },
      "source": [
        "<a href=\"https://colab.research.google.com/github/diegoesquivel09/ejerciciosbsm/blob/main/Eurosourcing.ipynb\" target=\"_parent\"><img src=\"https://colab.research.google.com/assets/colab-badge.svg\" alt=\"Open In Colab\"/></a>"
      ]
    },
    {
      "cell_type": "code",
      "execution_count": 1,
      "metadata": {
        "colab": {
          "base_uri": "https://localhost:8080/"
        },
        "id": "DldGS9gedeLW",
        "outputId": "de62ea62-25b4-4d8e-cc7d-75eb154d1aaf"
      },
      "outputs": [
        {
          "output_type": "stream",
          "name": "stdout",
          "text": [
            "Requirement already satisfied: mip in /usr/local/lib/python3.10/dist-packages (1.15.0)\n",
            "Requirement already satisfied: cffi==1.15.* in /usr/local/lib/python3.10/dist-packages (from mip) (1.15.1)\n",
            "Requirement already satisfied: pycparser in /usr/local/lib/python3.10/dist-packages (from cffi==1.15.*->mip) (2.21)\n"
          ]
        }
      ],
      "source": [
        "!pip install mip\n",
        "\n",
        "from mip import *\n"
      ]
    },
    {
      "cell_type": "markdown",
      "source": [
        "### Definir objeto modelo y los datos\n"
      ],
      "metadata": {
        "id": "52ZjXuzseqao"
      }
    },
    {
      "cell_type": "code",
      "source": [
        "#Crear el modelo\n",
        "\n",
        "model = Model()\n",
        "\n",
        "# Datos del problema\n",
        "\n",
        "mercados = ['Madrid', 'París', 'Berlín', 'Roma', 'Amsterdam']\n",
        "costo_produccion_local = {'Madrid': 460, 'París': 515, 'Berlín': 505, 'Roma': 480, 'Amsterdam': 490}\n",
        "demanda = {'Madrid': 420, 'París': 1310, 'Berlín': 1250, 'Roma': 930, 'Amsterdam': 870}\n",
        "costo_transporte_terrestre = {\n",
        "    ('Madrid', 'París'): 10, ('Madrid', 'Berlín'): 35, ('Madrid', 'Roma'): 25, ('Madrid', 'Amsterdam'): 25,\n",
        "    ('París', 'Berlín'): 15, ('París', 'Roma'): 20, ('París', 'Amsterdam'): 10, ('París', 'Madrid'): 10,\n",
        "    ('Berlín', 'Madrid'): 35,('Berlín', 'París'): 15,('Berlín', 'Roma'): 25, ('Berlín', 'Amsterdam'): 10,\n",
        "    ('Roma', 'Madrid'): 25, ('Roma', 'París'): 20, ('Roma', 'Berlín'): 25, ('Roma', 'Amsterdam'): 23,\n",
        "    ('Amsterdam', 'Madrid'): 25, ('Amsterdam', 'París'): 10, ('Amsterdam', 'Berlín'): 10, ('Amsterdam', 'Roma'): 23,\n",
        "}\n",
        "costo_transporte_maritimo_china = {'Madrid': 9, 'París': 8.25, 'Berlín': 9, 'Roma': 10, 'Amsterdam': 6}\n",
        "costo_produccion_china = 440  # Costo unitario de producción en China\n"
      ],
      "metadata": {
        "id": "d3gHNXYqesnP"
      },
      "execution_count": 2,
      "outputs": []
    },
    {
      "cell_type": "markdown",
      "source": [
        "#Definir variables"
      ],
      "metadata": {
        "id": "nxFjkxmG9o69"
      }
    },
    {
      "cell_type": "code",
      "source": [
        "### Definir variables de decisión\n",
        "\n",
        "produccion_local = {m: model.add_var() for m in mercados}\n",
        "produccion_china = model.add_var()"
      ],
      "metadata": {
        "id": "CRFdIynM7e4D"
      },
      "execution_count": 8,
      "outputs": []
    },
    {
      "cell_type": "markdown",
      "source": [
        "#Restricciones de demanda"
      ],
      "metadata": {
        "id": "hUSR_zowGh9I"
      }
    },
    {
      "cell_type": "code",
      "source": [
        "model.add_constr(\n",
        "    xsum(produccion_local[m] for m in mercados)\n",
        "    + produccion_china + xsum(costo_transporte_maritimo_china[m] * produccion_china for m in mercados)\n",
        "    + xsum(costo_transporte_terrestre.get((m, otro_m), 0) * produccion_local[otro_m] for m in mercados for otro_m in mercados if m != 'China')\n",
        "    == xsum(demanda[m] + xsum(costo_transporte_terrestre.get((otro_m, m), 0) * produccion_local[m] for otro_m in mercados if otro_m != 'China') for m in mercados)\n",
        "  )\n",
        "\n"
      ],
      "metadata": {
        "colab": {
          "base_uri": "https://localhost:8080/"
        },
        "id": "4O0GYuybGk5O",
        "outputId": "2441d747-002a-4c7d-88b1-08de40bd5826"
      },
      "execution_count": 10,
      "outputs": [
        {
          "output_type": "execute_result",
          "data": {
            "text/plain": [
              "<mip.entities.Constr at 0x7f6db4751dc0>"
            ]
          },
          "metadata": {},
          "execution_count": 10
        }
      ]
    },
    {
      "cell_type": "markdown",
      "source": [
        "# Función Objetivo"
      ],
      "metadata": {
        "id": "NX_ajN7S-cK8"
      }
    },
    {
      "cell_type": "code",
      "source": [
        "model.objective= minimize(\n",
        "    xsum(produccion_local[m] * costo_produccion_local[m] for m in mercados)\n",
        "    + produccion_china * costo_produccion_china\n",
        "    + xsum(costo_transporte_maritimo_china[m] * produccion_china for m in mercados)\n",
        "    +xsum(costo_transporte_terrestre.get((m, otro_m),0) * produccion_local[otro_m] for m in mercados for otro_m in mercados)\n",
        ")\n",
        "\n"
      ],
      "metadata": {
        "id": "RAy1j3MR-d0f"
      },
      "execution_count": 11,
      "outputs": []
    },
    {
      "cell_type": "markdown",
      "source": [
        "Resolver el model"
      ],
      "metadata": {
        "id": "4a1_PYcIHFUv"
      }
    },
    {
      "cell_type": "code",
      "source": [
        "status= model.optimize()\n",
        "print(\"Estado:\", status)\n",
        "\n",
        "print(\"Producción loca len cada mercado:\")\n",
        "for m in mercados:\n",
        "  print(f\"{m}: {produccion_local[m].x}\")\n",
        "\n",
        "print(f\"Producción en China: {produccion_china.x}\")\n",
        "print(\"Costo total de producción y transporte:\",  model.objective_value)"
      ],
      "metadata": {
        "colab": {
          "base_uri": "https://localhost:8080/"
        },
        "id": "zBk-etoyHFEA",
        "outputId": "21a78944-2b63-4309-92b8-3871222f9df6"
      },
      "execution_count": 14,
      "outputs": [
        {
          "output_type": "stream",
          "name": "stdout",
          "text": [
            "Estado: OptimizationStatus.OPTIMAL\n",
            "Producción loca len cada mercado:\n",
            "Madrid: 0.0\n",
            "París: 0.0\n",
            "Berlín: 0.0\n",
            "Roma: 0.0\n",
            "Amsterdam: 0.0\n",
            "Producción en China: 110.52023121387283\n",
            "Costo total de producción y transporte: 53298.38150289017\n"
          ]
        }
      ]
    }
  ]
}